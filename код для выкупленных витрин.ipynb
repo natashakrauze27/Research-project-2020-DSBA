{
 "cells": [
  {
   "cell_type": "code",
   "execution_count": 1,
   "metadata": {},
   "outputs": [],
   "source": [
    "import numpy as np \n",
    "import pandas as pd"
   ]
  },
  {
   "cell_type": "code",
   "execution_count": 2,
   "metadata": {},
   "outputs": [],
   "source": [
    "df = pd.read_csv('filtered_dataBuyed2.csv', sep=';', encoding='utf-8-sig') "
   ]
  },
  {
   "cell_type": "code",
   "execution_count": 3,
   "metadata": {},
   "outputs": [],
   "source": [
    "def generate_table(df, column_name=\"МесяцДатыЗаказа\"): \n",
    "    columns_list = [column_name, 'КоличествоЧеков', 'Средний чек', 'СреднееЧислоТоваровЧека', 'Выручка', 'КоличествоТоваров', 'СредняяМаржа', 'ПроцентОтмен', ] \n",
    "    unique_values = df[column_name].unique()\n",
    "    total = pd.DataFrame(columns=columns_list)\n",
    "    for val in unique_values: \n",
    "        list_of_values = [val] \n",
    "        filtered_df = df[df[column_name] == val] \n",
    "        # Подсчет значений\n",
    "        \n",
    "        df_numb_check = filtered_df['НомерЗаказаНаСайте'].unique()               #кол-во чеков \n",
    "        numb_check = df_numb_check.size\n",
    "        list_of_values.append(numb_check)  \n",
    "        \n",
    "        avarage_bill = int(round(filtered_df.groupby(['НомерЗаказаНаСайте']).mean()['НовСуммаЗаказаНаСайте'].mean())) #средний чек \n",
    "        list_of_values.append(avarage_bill) \n",
    "        \n",
    "        avarage_numb_good = int(round(filtered_df.groupby(['НомерЗаказаНаСайте']).count()['НовСуммаЗаказаНаСайте'].mean())) #среднее кол-во товаров в  чеке\n",
    "        list_of_values.append(avarage_numb_good) \n",
    "        \n",
    "        profit = int(round(filtered_df['НоваяСуммаСтроки'].sum()))               #выручка \n",
    "        list_of_values.append(profit) \n",
    "        \n",
    "        numb_good = filtered_df['МесяцДатыЗаказа'].size                          #кол-во товаров \n",
    "        list_of_values.append(numb_good) \n",
    "        \n",
    "        absmargin = int(round(filtered_df['ИспМаржа'].sum()))                    #средняя маржа \n",
    "        list_of_values.append(absmargin/numb_check) \n",
    "        \n",
    "        df_canceled = filtered_df['НомерЗаказаНаСайте'].unique()                 #процент отмен \n",
    "        numb_check = df_numb_check.size\n",
    "        list_of_values.append(numb_check) \n",
    "\n",
    "        \n",
    "        tmp_df = pd.DataFrame([list_of_values], columns=columns_list) \n",
    "        total = total.append(tmp_df, ignore_index=True)\n",
    "    return total"
   ]
  },
  {
   "cell_type": "code",
   "execution_count": null,
   "metadata": {},
   "outputs": [],
   "source": [
    "pivot_table = generate_table(df, column_name=\"Телефон_new\") \n",
    "pivot_table"
   ]
  },
  {
   "cell_type": "code",
   "execution_count": null,
   "metadata": {},
   "outputs": [],
   "source": [
    "pivot_table.to_csv('ВитринаВыкупленные.csv', index=False, sep=';', encoding='utf-8-sig')"
   ]
  }
 ],
 "metadata": {
  "kernelspec": {
   "display_name": "Python 3",
   "language": "python",
   "name": "python3"
  },
  "language_info": {
   "codemirror_mode": {
    "name": "ipython",
    "version": 3
   },
   "file_extension": ".py",
   "mimetype": "text/x-python",
   "name": "python",
   "nbconvert_exporter": "python",
   "pygments_lexer": "ipython3",
   "version": "3.7.0"
  }
 },
 "nbformat": 4,
 "nbformat_minor": 2
}
